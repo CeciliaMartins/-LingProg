{
 "cells": [
  {
   "cell_type": "code",
   "execution_count": 2,
   "metadata": {},
   "outputs": [
    {
     "name": "stdout",
     "output_type": "stream",
     "text": [
      "0\n",
      "1\n",
      "2\n",
      "p1: Ana, 22\n",
      "p2: Jose, 34\n",
      "2\n",
      "2\n"
     ]
    }
   ],
   "source": [
    "class Pessoa:\n",
    "    contador = 0\n",
    "    def __init__(self, nome, idade):\n",
    "        self.nome = nome\n",
    "        self.idade = idade\n",
    "        Pessoa.contador += 1\n",
    "        \n",
    "print (Pessoa.contador)        \n",
    "p1 = Pessoa (\"Ana\", 22)\n",
    "print (Pessoa.contador)\n",
    "p2 = Pessoa (\"Jose\", 34)\n",
    "print (Pessoa.contador)\n",
    "\n",
    "print(f'p1: {p1.nome}, {p1.idade}')\n",
    "print(f'p2: {p2.nome}, {p2.idade}')\n",
    "\n",
    "print (p1.contador)\n",
    "print (p2.contador)"
   ]
  },
  {
   "cell_type": "code",
   "execution_count": null,
   "metadata": {},
   "outputs": [],
   "source": [
    "class Livro\n",
    "    def __init__(self, titulo, numero_paginas):\n",
    "        self.titulo = titulo\n",
    "        self.numero_paginas = numero_paginas\n",
    "        self.aberto = False\n",
    "    \n",
    "    def abrir(self)\n",
    "        self.aberto = True\n",
    "    \n",
    "    def fechar (self)\n",
    "        self.aberto = False\n",
    "        \n",
    "L = Livro(\"Python como Programar\", 500);\n",
    "a = 2\n",
    "b = 2.2\n",
    "c = \"abc\"\n",
    "print(type(L))"
   ]
  },
  {
   "cell_type": "code",
   "execution_count": 5,
   "metadata": {},
   "outputs": [
    {
     "name": "stdout",
     "output_type": "stream",
     "text": [
      "7\n"
     ]
    }
   ],
   "source": [
    "class Calculadora:\n",
    "    def soma (self, n1, n2 = 0, n3 = 0):\n",
    "        return n1 + n2 + n3\n",
    "    \n",
    "c = Calculadora();\n",
    "print(c.soma(n1 = 2, n3 = 5))"
   ]
  },
  {
   "cell_type": "code",
   "execution_count": 14,
   "metadata": {},
   "outputs": [
    {
     "name": "stdout",
     "output_type": "stream",
     "text": [
      "Animal Criado\n",
      "(self.nome) sendo apagado\n",
      "Animal.nome\n",
      "None\n"
     ]
    }
   ],
   "source": [
    "class Animal:\n",
    "    def __init__(self, nome):\n",
    "        self.nome = nome\n",
    "        print('Animal Criado')\n",
    "    \n",
    "    def quemSoueu (self):\n",
    "        print('Animal')\n",
    "        \n",
    "    def __str__(self):\n",
    "        return f'Animal: (self.nome)'\n",
    "    \n",
    "    def __len__(self):\n",
    "        return len(self.nome)\n",
    "    \n",
    "    def __del__(self):\n",
    "        print(f'(self.nome) sendo apagado')\n",
    "    \n",
    "class Dog(Animal):\n",
    "    def __init__(self):\n",
    "        Animal.__init__(self)\n",
    "        print('Cachorro criado')\n",
    "    \n",
    "    def quemSoueu(self):\n",
    "        print('Dog')\n",
    "        \n",
    "    \n",
    "a = Animal('Cachorro')\n",
    "print(a.quemSoueu())\n",
    "\n",
    "\n",
    "        \n",
    "        "
   ]
  },
  {
   "cell_type": "code",
   "execution_count": null,
   "metadata": {},
   "outputs": [
    {
     "name": "stdout",
     "output_type": "stream",
     "text": [
      "1 - Cadastrar\n",
      "2-Listar\n",
      "0-Sair\n",
      "1\n",
      "Digite o nomeJoao\n",
      "Digite o numero1\n",
      "Finalmente passou por aqui\n",
      "Digite o nome0\n",
      "Digite o numero0\n",
      "Finalmente passou por aqui\n",
      "Digite o nome2\n",
      "Digite o numero2\n",
      "Finalmente passou por aqui\n",
      "Digite o nome2\n",
      "Digite o numero2\n",
      "Finalmente passou por aqui\n",
      "Digite o nome0\n",
      "Digite o numero0\n",
      "Finalmente passou por aqui\n",
      "Digite o nome0\n",
      "Digite o numero0\n",
      "Finalmente passou por aqui\n",
      "Digite o nome0\n",
      "Digite o numero0\n",
      "Finalmente passou por aqui\n"
     ]
    }
   ],
   "source": [
    "class Contato:\n",
    "    def __init__(self, nome, numero):\n",
    "        self.nome = nome\n",
    "        self.numero = numero\n",
    "        \n",
    "def cadastro_de_contatos():\n",
    "    menu = '1 - Cadastrar\\n2-Listar\\n0-Sair\\n'\n",
    "    op = int(input(menu))\n",
    "    while op != 0:\n",
    "        if op == 1:\n",
    "            try:\n",
    "                f = open ('agenda.txt', 'a')\n",
    "                nome = input('Digite o nome')\n",
    "                numero = input('Digite o numero')\n",
    "                f.write(nome + ';' + numero + '\\n');\n",
    "                f.close();\n",
    "            except IOError:\n",
    "                print('Nao deu certo')\n",
    "            finally:\n",
    "                print('Finalmente passou por aqui')\n",
    "        elif op == 2:\n",
    "            pass\n",
    "        else:\n",
    "            op = int(input(menu))\n",
    "    \n",
    "cadastro_de_contatos()\n",
    "        \n",
    "        "
   ]
  },
  {
   "cell_type": "code",
   "execution_count": null,
   "metadata": {},
   "outputs": [],
   "source": []
  }
 ],
 "metadata": {
  "kernelspec": {
   "display_name": "Python 3",
   "language": "python",
   "name": "python3"
  },
  "language_info": {
   "codemirror_mode": {
    "name": "ipython",
    "version": 3
   },
   "file_extension": ".py",
   "mimetype": "text/x-python",
   "name": "python",
   "nbconvert_exporter": "python",
   "pygments_lexer": "ipython3",
   "version": "3.6.5"
  }
 },
 "nbformat": 4,
 "nbformat_minor": 2
}
